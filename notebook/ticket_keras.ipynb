{
  "cells": [
    {
      "source": [
        "# Text classification system that can automatically categorize customer complaints"
      ],
      "metadata": {
        "executionCancelledAt": null,
        "executionTime": 165,
        "lastExecutedAt": 1707667023665,
        "lastScheduledRunId": null,
        "lastSuccessfullyExecutedCode": "CleverSupport is a company at the forefront of AI innovation, specializing in the development of AI-driven solutions to enhance customer support services. Their latest endeavor is to engineer a text classification system that can autonomously categorize customer complaints. \n\nYour role as a data scientist involves the creation of a sophisticated machine learning model that can accurately assign complaints to specific categories, such as technical issues, billing inquiries, cancellation requests, refunds, and product information requests.",
        "id": "e5870ae0-6165-459e-9c40-0f282883be7b"
      },
      "id": "e5870ae0-6165-459e-9c40-0f282883be7b",
      "cell_type": "markdown"
    },
    {
      "cell_type": "code",
      "source": [
        "!pip install contractions"
      ],
      "metadata": {
        "colab": {
          "base_uri": "https://localhost:8080/"
        },
        "id": "aKpCwjeSedYA",
        "outputId": "063cad1e-edd3-495f-83a6-3b2b083464ab"
      },
      "id": "aKpCwjeSedYA",
      "execution_count": 240,
      "outputs": [
        {
          "output_type": "stream",
          "name": "stdout",
          "text": [
            "Collecting contractions\n",
            "  Downloading contractions-0.1.73-py2.py3-none-any.whl.metadata (1.2 kB)\n",
            "Collecting textsearch>=0.0.21 (from contractions)\n",
            "  Downloading textsearch-0.0.24-py2.py3-none-any.whl.metadata (1.2 kB)\n",
            "Collecting anyascii (from textsearch>=0.0.21->contractions)\n",
            "  Downloading anyascii-0.3.2-py3-none-any.whl.metadata (1.5 kB)\n",
            "Collecting pyahocorasick (from textsearch>=0.0.21->contractions)\n",
            "  Downloading pyahocorasick-2.1.0-cp311-cp311-manylinux_2_17_x86_64.manylinux2014_x86_64.whl.metadata (13 kB)\n",
            "Downloading contractions-0.1.73-py2.py3-none-any.whl (8.7 kB)\n",
            "Downloading textsearch-0.0.24-py2.py3-none-any.whl (7.6 kB)\n",
            "Downloading anyascii-0.3.2-py3-none-any.whl (289 kB)\n",
            "\u001b[2K   \u001b[90m━━━━━━━━━━━━━━━━━━━━━━━━━━━━━━━━━━━━━━━━\u001b[0m \u001b[32m289.9/289.9 kB\u001b[0m \u001b[31m5.0 MB/s\u001b[0m eta \u001b[36m0:00:00\u001b[0m\n",
            "\u001b[?25hDownloading pyahocorasick-2.1.0-cp311-cp311-manylinux_2_17_x86_64.manylinux2014_x86_64.whl (118 kB)\n",
            "\u001b[2K   \u001b[90m━━━━━━━━━━━━━━━━━━━━━━━━━━━━━━━━━━━━━━━━\u001b[0m \u001b[32m118.3/118.3 kB\u001b[0m \u001b[31m7.5 MB/s\u001b[0m eta \u001b[36m0:00:00\u001b[0m\n",
            "\u001b[?25hInstalling collected packages: pyahocorasick, anyascii, textsearch, contractions\n",
            "Successfully installed anyascii-0.3.2 contractions-0.1.73 pyahocorasick-2.1.0 textsearch-0.0.24\n"
          ]
        }
      ]
    },
    {
      "source": [
        "import numpy as np\n",
        "import pandas as pd\n",
        "import matplotlib.pyplot as plt\n",
        "import seaborn as sns\n",
        "from sklearn.model_selection import train_test_split\n",
        "from sklearn.metrics import classification_report, confusion_matrix\n",
        "\n",
        "import nltk, json\n",
        "nltk.download('punkt')\n",
        "\n",
        "import torch\n",
        "from torch.utils.data import TensorDataset, DataLoader\n",
        "\n",
        "import tensorflow as tf\n",
        "import tensorflow_hub as hub"
      ],
      "metadata": {
        "jupyter": {
          "outputs_hidden": false,
          "source_hidden": false
        },
        "executionCancelledAt": null,
        "executionTime": 5628,
        "lastExecutedAt": 1742642773194,
        "lastScheduledRunId": null,
        "lastSuccessfullyExecutedCode": "from collections import Counter\nimport nltk, json\nimport numpy as np\nimport pandas as pd\nfrom sklearn.model_selection import train_test_split\nimport torch\nimport torch.nn as nn\nimport torch.nn.functional as F\nfrom torch.utils.data import TensorDataset, DataLoader\nfrom torchmetrics import Accuracy, Precision, Recall",
        "lastExecutedByKernel": "35e066a4-1a49-4828-98a8-2ce528a3d8c5",
        "colab": {
          "base_uri": "https://localhost:8080/"
        },
        "id": "2fa90b61-0244-4236-aa93-e33a7a088eec",
        "outputId": "57fda2d3-2f8a-4429-9198-c952ab05ff54"
      },
      "id": "2fa90b61-0244-4236-aa93-e33a7a088eec",
      "cell_type": "code",
      "execution_count": 214,
      "outputs": [
        {
          "output_type": "stream",
          "name": "stderr",
          "text": [
            "[nltk_data] Downloading package punkt to /root/nltk_data...\n",
            "[nltk_data]   Package punkt is already up-to-date!\n"
          ]
        }
      ]
    },
    {
      "cell_type": "markdown",
      "source": [
        "## Load and Prepare Data"
      ],
      "metadata": {
        "id": "vuAXJLZAAypJ"
      },
      "id": "vuAXJLZAAypJ"
    },
    {
      "cell_type": "code",
      "source": [
        "from google.colab import drive\n",
        "drive.mount('/content/drive', force_remount=True)"
      ],
      "metadata": {
        "colab": {
          "base_uri": "https://localhost:8080/"
        },
        "id": "jU0q1L4Fpfku",
        "outputId": "14bf2db0-4499-40a0-ed76-38d8b3db93e6"
      },
      "id": "jU0q1L4Fpfku",
      "execution_count": 215,
      "outputs": [
        {
          "output_type": "stream",
          "name": "stdout",
          "text": [
            "Mounted at /content/drive\n"
          ]
        }
      ]
    },
    {
      "source": [
        "with open('/content/drive/My Drive/code/Ticket/text.json', 'r') as f:\n",
        "    text = json.load(f)\n",
        "\n",
        "label = np.load('/content/drive/My Drive/code/Ticket/labels.npy')"
      ],
      "metadata": {
        "executionCancelledAt": null,
        "executionTime": 126,
        "lastExecutedAt": 1742643139979,
        "lastExecutedByKernel": "35e066a4-1a49-4828-98a8-2ce528a3d8c5",
        "lastScheduledRunId": null,
        "lastSuccessfullyExecutedCode": "# Import data and labels\nwith open(\"words.json\", 'r') as f1:\n    words = json.load(f1)\nwith open(\"text.json\", 'r') as f2:\n    text = json.load(f2)\nlabels = np.load('labels.npy')",
        "id": "e1b12eaf-e55c-422c-94a2-b0197c465a1b"
      },
      "id": "e1b12eaf-e55c-422c-94a2-b0197c465a1b",
      "cell_type": "code",
      "execution_count": 261,
      "outputs": []
    },
    {
      "source": [
        "df = pd.DataFrame({\"text\": text, \"label\": label})\n",
        "df.head()"
      ],
      "metadata": {
        "executionCancelledAt": null,
        "executionTime": 11,
        "lastExecutedAt": 1742643023574,
        "lastExecutedByKernel": "35e066a4-1a49-4828-98a8-2ce528a3d8c5",
        "lastScheduledRunId": null,
        "lastSuccessfullyExecutedCode": "text[:2]",
        "colab": {
          "base_uri": "https://localhost:8080/",
          "height": 206
        },
        "id": "6e561be5-05c5-4939-a20f-667209b3c6fe",
        "outputId": "dee60fb7-72c2-4938-9c2c-8eb8a4e487bd"
      },
      "cell_type": "code",
      "id": "6e561be5-05c5-4939-a20f-667209b3c6fe",
      "outputs": [
        {
          "output_type": "execute_result",
          "data": {
            "text/plain": [
              "                                                text  label\n",
              "0  [i, called, because, i, have, been, receiving,...      2\n",
              "1  [this, call, took, place, at, around, noon, ,,...      2\n",
              "2  [i, am, a, victim, of, identity, theft, and, t...      2\n",
              "3  [conn, 's, calls, my, husband, 's, work, (, ),...      2\n",
              "4  [i, was, called, on, by, from, claiming, i, ha...      2"
            ],
            "text/html": [
              "\n",
              "  <div id=\"df-67d9396d-c548-4232-8d6d-9edebee618b1\" class=\"colab-df-container\">\n",
              "    <div>\n",
              "<style scoped>\n",
              "    .dataframe tbody tr th:only-of-type {\n",
              "        vertical-align: middle;\n",
              "    }\n",
              "\n",
              "    .dataframe tbody tr th {\n",
              "        vertical-align: top;\n",
              "    }\n",
              "\n",
              "    .dataframe thead th {\n",
              "        text-align: right;\n",
              "    }\n",
              "</style>\n",
              "<table border=\"1\" class=\"dataframe\">\n",
              "  <thead>\n",
              "    <tr style=\"text-align: right;\">\n",
              "      <th></th>\n",
              "      <th>text</th>\n",
              "      <th>label</th>\n",
              "    </tr>\n",
              "  </thead>\n",
              "  <tbody>\n",
              "    <tr>\n",
              "      <th>0</th>\n",
              "      <td>[i, called, because, i, have, been, receiving,...</td>\n",
              "      <td>2</td>\n",
              "    </tr>\n",
              "    <tr>\n",
              "      <th>1</th>\n",
              "      <td>[this, call, took, place, at, around, noon, ,,...</td>\n",
              "      <td>2</td>\n",
              "    </tr>\n",
              "    <tr>\n",
              "      <th>2</th>\n",
              "      <td>[i, am, a, victim, of, identity, theft, and, t...</td>\n",
              "      <td>2</td>\n",
              "    </tr>\n",
              "    <tr>\n",
              "      <th>3</th>\n",
              "      <td>[conn, 's, calls, my, husband, 's, work, (, ),...</td>\n",
              "      <td>2</td>\n",
              "    </tr>\n",
              "    <tr>\n",
              "      <th>4</th>\n",
              "      <td>[i, was, called, on, by, from, claiming, i, ha...</td>\n",
              "      <td>2</td>\n",
              "    </tr>\n",
              "  </tbody>\n",
              "</table>\n",
              "</div>\n",
              "    <div class=\"colab-df-buttons\">\n",
              "\n",
              "  <div class=\"colab-df-container\">\n",
              "    <button class=\"colab-df-convert\" onclick=\"convertToInteractive('df-67d9396d-c548-4232-8d6d-9edebee618b1')\"\n",
              "            title=\"Convert this dataframe to an interactive table.\"\n",
              "            style=\"display:none;\">\n",
              "\n",
              "  <svg xmlns=\"http://www.w3.org/2000/svg\" height=\"24px\" viewBox=\"0 -960 960 960\">\n",
              "    <path d=\"M120-120v-720h720v720H120Zm60-500h600v-160H180v160Zm220 220h160v-160H400v160Zm0 220h160v-160H400v160ZM180-400h160v-160H180v160Zm440 0h160v-160H620v160ZM180-180h160v-160H180v160Zm440 0h160v-160H620v160Z\"/>\n",
              "  </svg>\n",
              "    </button>\n",
              "\n",
              "  <style>\n",
              "    .colab-df-container {\n",
              "      display:flex;\n",
              "      gap: 12px;\n",
              "    }\n",
              "\n",
              "    .colab-df-convert {\n",
              "      background-color: #E8F0FE;\n",
              "      border: none;\n",
              "      border-radius: 50%;\n",
              "      cursor: pointer;\n",
              "      display: none;\n",
              "      fill: #1967D2;\n",
              "      height: 32px;\n",
              "      padding: 0 0 0 0;\n",
              "      width: 32px;\n",
              "    }\n",
              "\n",
              "    .colab-df-convert:hover {\n",
              "      background-color: #E2EBFA;\n",
              "      box-shadow: 0px 1px 2px rgba(60, 64, 67, 0.3), 0px 1px 3px 1px rgba(60, 64, 67, 0.15);\n",
              "      fill: #174EA6;\n",
              "    }\n",
              "\n",
              "    .colab-df-buttons div {\n",
              "      margin-bottom: 4px;\n",
              "    }\n",
              "\n",
              "    [theme=dark] .colab-df-convert {\n",
              "      background-color: #3B4455;\n",
              "      fill: #D2E3FC;\n",
              "    }\n",
              "\n",
              "    [theme=dark] .colab-df-convert:hover {\n",
              "      background-color: #434B5C;\n",
              "      box-shadow: 0px 1px 3px 1px rgba(0, 0, 0, 0.15);\n",
              "      filter: drop-shadow(0px 1px 2px rgba(0, 0, 0, 0.3));\n",
              "      fill: #FFFFFF;\n",
              "    }\n",
              "  </style>\n",
              "\n",
              "    <script>\n",
              "      const buttonEl =\n",
              "        document.querySelector('#df-67d9396d-c548-4232-8d6d-9edebee618b1 button.colab-df-convert');\n",
              "      buttonEl.style.display =\n",
              "        google.colab.kernel.accessAllowed ? 'block' : 'none';\n",
              "\n",
              "      async function convertToInteractive(key) {\n",
              "        const element = document.querySelector('#df-67d9396d-c548-4232-8d6d-9edebee618b1');\n",
              "        const dataTable =\n",
              "          await google.colab.kernel.invokeFunction('convertToInteractive',\n",
              "                                                    [key], {});\n",
              "        if (!dataTable) return;\n",
              "\n",
              "        const docLinkHtml = 'Like what you see? Visit the ' +\n",
              "          '<a target=\"_blank\" href=https://colab.research.google.com/notebooks/data_table.ipynb>data table notebook</a>'\n",
              "          + ' to learn more about interactive tables.';\n",
              "        element.innerHTML = '';\n",
              "        dataTable['output_type'] = 'display_data';\n",
              "        await google.colab.output.renderOutput(dataTable, element);\n",
              "        const docLink = document.createElement('div');\n",
              "        docLink.innerHTML = docLinkHtml;\n",
              "        element.appendChild(docLink);\n",
              "      }\n",
              "    </script>\n",
              "  </div>\n",
              "\n",
              "\n",
              "<div id=\"df-c132237f-f4cd-422d-86a5-5ebefe1fdcc1\">\n",
              "  <button class=\"colab-df-quickchart\" onclick=\"quickchart('df-c132237f-f4cd-422d-86a5-5ebefe1fdcc1')\"\n",
              "            title=\"Suggest charts\"\n",
              "            style=\"display:none;\">\n",
              "\n",
              "<svg xmlns=\"http://www.w3.org/2000/svg\" height=\"24px\"viewBox=\"0 0 24 24\"\n",
              "     width=\"24px\">\n",
              "    <g>\n",
              "        <path d=\"M19 3H5c-1.1 0-2 .9-2 2v14c0 1.1.9 2 2 2h14c1.1 0 2-.9 2-2V5c0-1.1-.9-2-2-2zM9 17H7v-7h2v7zm4 0h-2V7h2v10zm4 0h-2v-4h2v4z\"/>\n",
              "    </g>\n",
              "</svg>\n",
              "  </button>\n",
              "\n",
              "<style>\n",
              "  .colab-df-quickchart {\n",
              "      --bg-color: #E8F0FE;\n",
              "      --fill-color: #1967D2;\n",
              "      --hover-bg-color: #E2EBFA;\n",
              "      --hover-fill-color: #174EA6;\n",
              "      --disabled-fill-color: #AAA;\n",
              "      --disabled-bg-color: #DDD;\n",
              "  }\n",
              "\n",
              "  [theme=dark] .colab-df-quickchart {\n",
              "      --bg-color: #3B4455;\n",
              "      --fill-color: #D2E3FC;\n",
              "      --hover-bg-color: #434B5C;\n",
              "      --hover-fill-color: #FFFFFF;\n",
              "      --disabled-bg-color: #3B4455;\n",
              "      --disabled-fill-color: #666;\n",
              "  }\n",
              "\n",
              "  .colab-df-quickchart {\n",
              "    background-color: var(--bg-color);\n",
              "    border: none;\n",
              "    border-radius: 50%;\n",
              "    cursor: pointer;\n",
              "    display: none;\n",
              "    fill: var(--fill-color);\n",
              "    height: 32px;\n",
              "    padding: 0;\n",
              "    width: 32px;\n",
              "  }\n",
              "\n",
              "  .colab-df-quickchart:hover {\n",
              "    background-color: var(--hover-bg-color);\n",
              "    box-shadow: 0 1px 2px rgba(60, 64, 67, 0.3), 0 1px 3px 1px rgba(60, 64, 67, 0.15);\n",
              "    fill: var(--button-hover-fill-color);\n",
              "  }\n",
              "\n",
              "  .colab-df-quickchart-complete:disabled,\n",
              "  .colab-df-quickchart-complete:disabled:hover {\n",
              "    background-color: var(--disabled-bg-color);\n",
              "    fill: var(--disabled-fill-color);\n",
              "    box-shadow: none;\n",
              "  }\n",
              "\n",
              "  .colab-df-spinner {\n",
              "    border: 2px solid var(--fill-color);\n",
              "    border-color: transparent;\n",
              "    border-bottom-color: var(--fill-color);\n",
              "    animation:\n",
              "      spin 1s steps(1) infinite;\n",
              "  }\n",
              "\n",
              "  @keyframes spin {\n",
              "    0% {\n",
              "      border-color: transparent;\n",
              "      border-bottom-color: var(--fill-color);\n",
              "      border-left-color: var(--fill-color);\n",
              "    }\n",
              "    20% {\n",
              "      border-color: transparent;\n",
              "      border-left-color: var(--fill-color);\n",
              "      border-top-color: var(--fill-color);\n",
              "    }\n",
              "    30% {\n",
              "      border-color: transparent;\n",
              "      border-left-color: var(--fill-color);\n",
              "      border-top-color: var(--fill-color);\n",
              "      border-right-color: var(--fill-color);\n",
              "    }\n",
              "    40% {\n",
              "      border-color: transparent;\n",
              "      border-right-color: var(--fill-color);\n",
              "      border-top-color: var(--fill-color);\n",
              "    }\n",
              "    60% {\n",
              "      border-color: transparent;\n",
              "      border-right-color: var(--fill-color);\n",
              "    }\n",
              "    80% {\n",
              "      border-color: transparent;\n",
              "      border-right-color: var(--fill-color);\n",
              "      border-bottom-color: var(--fill-color);\n",
              "    }\n",
              "    90% {\n",
              "      border-color: transparent;\n",
              "      border-bottom-color: var(--fill-color);\n",
              "    }\n",
              "  }\n",
              "</style>\n",
              "\n",
              "  <script>\n",
              "    async function quickchart(key) {\n",
              "      const quickchartButtonEl =\n",
              "        document.querySelector('#' + key + ' button');\n",
              "      quickchartButtonEl.disabled = true;  // To prevent multiple clicks.\n",
              "      quickchartButtonEl.classList.add('colab-df-spinner');\n",
              "      try {\n",
              "        const charts = await google.colab.kernel.invokeFunction(\n",
              "            'suggestCharts', [key], {});\n",
              "      } catch (error) {\n",
              "        console.error('Error during call to suggestCharts:', error);\n",
              "      }\n",
              "      quickchartButtonEl.classList.remove('colab-df-spinner');\n",
              "      quickchartButtonEl.classList.add('colab-df-quickchart-complete');\n",
              "    }\n",
              "    (() => {\n",
              "      let quickchartButtonEl =\n",
              "        document.querySelector('#df-c132237f-f4cd-422d-86a5-5ebefe1fdcc1 button');\n",
              "      quickchartButtonEl.style.display =\n",
              "        google.colab.kernel.accessAllowed ? 'block' : 'none';\n",
              "    })();\n",
              "  </script>\n",
              "</div>\n",
              "\n",
              "    </div>\n",
              "  </div>\n"
            ],
            "application/vnd.google.colaboratory.intrinsic+json": {
              "type": "dataframe",
              "variable_name": "df",
              "summary": "{\n  \"name\": \"df\",\n  \"rows\": 5000,\n  \"fields\": [\n    {\n      \"column\": \"text\",\n      \"properties\": {\n        \"dtype\": \"object\",\n        \"semantic_type\": \"\",\n        \"description\": \"\"\n      }\n    },\n    {\n      \"column\": \"label\",\n      \"properties\": {\n        \"dtype\": \"int8\",\n        \"num_unique_values\": 5,\n        \"samples\": [\n          1,\n          0,\n          3\n        ],\n        \"semantic_type\": \"\",\n        \"description\": \"\"\n      }\n    }\n  ]\n}"
            }
          },
          "metadata": {},
          "execution_count": 262
        }
      ],
      "execution_count": 262
    },
    {
      "cell_type": "code",
      "source": [
        "unique, counts = np.unique(label, return_counts=True)\n",
        "label_count = dict(zip(unique, counts))\n",
        "\n",
        "counts_array = np.array(list(label_count.values()))\n",
        "ranks = np.argsort(np.argsort(counts_array))\n",
        "colors = plt.cm.magma (ranks / max(ranks))\n",
        "\n",
        "plt.bar(label_count.keys(), label_count.values(), color=colors)\n",
        "plt.ylabel(\"Count\")\n",
        "plt.title(\"Label Distribution in Training Data\")\n",
        "plt.show()"
      ],
      "metadata": {
        "colab": {
          "base_uri": "https://localhost:8080/",
          "height": 452
        },
        "id": "WyLHYqIvqnW4",
        "outputId": "6956c1d9-df01-416c-daa4-d5e72d041684"
      },
      "id": "WyLHYqIvqnW4",
      "execution_count": 263,
      "outputs": [
        {
          "output_type": "display_data",
          "data": {
            "text/plain": [
              "<Figure size 640x480 with 1 Axes>"
            ],
            "image/png": "[encoded data removed]"
          },
          "metadata": {}
        }
      ]
    },
    {
      "cell_type": "markdown",
      "source": [
        "#### Check for duplicates"
      ],
      "metadata": {
        "id": "Z1u8XV4Lbbaz"
      },
      "id": "Z1u8XV4Lbbaz"
    },
    {
      "cell_type": "code",
      "source": [
        "from collections import Counter\n",
        "\n",
        "sentence_counts = Counter(tuple(sentence) for sentence in text)\n",
        "duplicates = {sentence: count for sentence, count in sentence_counts.items() if count > 1}\n",
        "\n",
        "print(\"Duplicate Sentences:\")\n",
        "for sentence, count in duplicates.items():\n",
        "    print(f\"{list(sentence)} - {count} times\")"
      ],
      "metadata": {
        "colab": {
          "base_uri": "https://localhost:8080/"
        },
        "id": "sRkyFI0obCsO",
        "outputId": "643ee4c0-6da9-4f51-d97b-590a579ffa8e"
      },
      "id": "sRkyFI0obCsO",
      "execution_count": 264,
      "outputs": [
        {
          "output_type": "stream",
          "name": "stdout",
          "text": [
            "Duplicate Sentences:\n",
            "['i', 'am', 'a', 'victim', 'of', 'identity', 'theft', 'and', 'this', 'debt', 'does', 'not', 'belong', 'to', 'me', '.', 'please', 'see', 'the', 'identity', 'theft', 'report', 'and', 'legal', 'affidavit', 'attached', '.'] - 3 times\n",
            "['i', 'was', 'shocked', 'when', 'i', 'reviewed', 'my', 'credit', 'report', 'this', 'week', 'and', 'i', 'found', 'multiple', 'inaccuracies', 'on', 'my', 'credit', 'report', 'from', 'the', '3', 'major', 'credit', 'bureaus', 'from', 'a', 'collection', 'company', 'that', 'i', 'never', 'have', 'dealt', 'with', 'before', '.', 'i', \"'ve\", 'attempted', 'several', 'times', 'to', 'ratify', 'the', 'issue', 'with', 'the', 'original', 'creditors', 'and', 'credit', 'bureaus', 'and', 'they', 'still', 'reporting', 'inaccurate', ',', 'unverifiable', 'information', '.', 'i', 'have', 'disputed', 'this', 'item', 'with', 'the', 'credit', 'reporting', 'agency', 'and', 'they', 'reported', 'you', 'confirmed', 'the', 'account', 'as', 'valid', '.', 'i', 'honestly', 'do', 'not', 'believe', 'to', 'ever', 'have', 'any', 'relationship', 'with', 'this', 'collection', 'agency', 'or', 'original', 'creditor', '.', 'also', 'there', 'are', 'several', 'inaccuracies', 'with', 'this', 'account', 'the', 'way', 'it', \"'s\", 'reporting', 'and', 'that', \"'s\", 'a', 'total', 'violation', 'of', 'fcra', 'and', 'fdcpa', 'laws', 'and', 'regulations', '.', 'in', 'a', 'good', 'faith', 'effort', 'to', 'resolve', 'the', 'matter', 'amicably', ',', 'i', 'must', 'demand', 'proof', 'of', 'this', 'debt', ',', 'specifically', 'the', 'alleged', 'contract', 'or', 'other', 'instrument', 'bearing', 'my', 'signature', ',', 'as', 'well', 'as', 'proof', 'of', 'your', 'authority', 'in', 'this', 'matter', '.', 'absent', 'such', 'proof', ',', 'you', 'must', 'correct', 'any', 'erroneous', 'reports', 'of', 'this', 'past', 'debt', 'as', 'mine', '.', 'i', 'am', 'writing', 'to', 'request', 'that', 'you', 'please', 'provide', 'the', 'following', 'information', ':', '1.', 'please', 'evidence', 'your', 'authorization', 'under', '15', 'usc', '1692', '(', 'e', ')', 'and', '15', 'usc', '1692', '(', 'f', ')', 'in', 'this', 'alleged', 'matter', '.', '2.', 'what', 'is', 'your', 'authorization', 'of', 'law', 'for', 'your', 'collection', 'of', 'information', '?', '3.', 'what', 'is', 'your', 'authorization', 'of', 'law', 'for', 'your', 'collection', 'of', 'this', 'alleged', 'debt', '?', '4.', 'please', 'evidence', 'your', 'authorization', 'to', 'do', 'business', 'or', 'operate', 'in', 'this', 'state', '.', '5.', 'please', 'evidence', 'proof', 'of', 'the', 'alleged', 'debt', ',', 'including', 'the', 'alleged', 'contract', 'or', 'other', 'instrument', 'bearing', 'my', 'signature', '.', '6.', 'please', 'provide', 'a', 'complete', 'account', 'history', ',', 'including', 'any', 'charges', 'added', 'for', 'collection', 'activity', '.', 'you', 'have', '30', 'days', 'upon', 'receipt', 'of', 'this', 'letter', 'to', 'provide', 'strict', 'proof', 'of', 'contract', '.', 'in', 'the', 'event', 'you', 'can', 'not', 'provide', 'strict', 'proof', 'of', 'contract', ',', 'you', 'must', 'cease', 'and', 'desist', 'any', 'and', 'all', 'collection', 'efforts', 'and', 'immediately', 'remove', 'any', 'derogatory', 'information', 'reported', 'to', 'the', 'consumer', 'reporting', 'agencies', '.', 'in', 'addition', ',', 'you', 'will', 'need', 'to', 'provide', 'me', 'your', 'agreement', ',', 'in', 'writing', ',', 'that', 'you', 'are', 'closing', 'your', 'file', ',', 'ceasing', 'collecting', 'activity', ',', 'and', 'deleting', 'all', 'information', 'related', 'to', 'this', 'reference', 'number', 'from', 'any', 'and', 'all', 'credit', 'reports', 'youve', 'furnished', 'the', 'information', 'to', '.', 'in', 'the', 'event', 'you', 'transfer', 'this', 'account', 'to', 'an', 'attorney', 'without', 'providing', 'proof', 'of', 'contract', ',', 'and', 'proving', 'your', 'claim', ',', 'heshe', 'will', 'be', 'immediate', 'reported', 'to', 'the', 'and', 'for', 'code', 'of', 'ethics', 'violations', '.'] - 2 times\n",
            "['i', 'am', 'a', 'victim', 'of', 'identity', 'theft', '.', 'due', 'to', 'the', 'corona', 'virus', 'pandemic', ',', 'we', 'are', 'all', 'facing', 'which', 'has', 'me', 'sitting', 'still', 'at', 'home', 'and', 'i', 'saw', 'the', 'recent', 'news', 'about', 'the', 'multiple', 'data', 'breaches', '.', 'i', 'decided', 'to', 'look', 'at', 'my', 'credit', 'reports', 'from', 'the', '3', 'major', 'credit', 'bureaus', 'and', 'found', 'that', 'someone', 'had', 'used', 'my', 'identity', '.', 'i', 'have', 'no', 'idea', 'how', 'the', 'theft', 'took', 'place', '.', 'i', 'also', 'have', 'no', 'knowledge', 'of', 'any', 'suspects', '.', 'i', 'did', 'not', 'receive', 'any', 'money', ',', 'goods', ',', 'or', 'services', 'as', 'a', 'result', 'of', 'identity', 'theft', '.', 'i', 'contacted', 'the', 'credit', 'bureau', 'and', 'told', 'me', 'to', 'file', 'an', 'identity', 'theft', 'report', 'which', 'i', 'am', 'doing', '.', 'i', 'appreciate', 'your', 'effort', 'in', 'getting', 'this', 'matter', 'resolved', '.', 'thank', 'you', '.', 'please', 'let', 'me', 'know', 'if', 'you', 'need', 'any', 'other', 'information', 'from', 'me', 'to', 'block', 'this', 'information', 'from', 'my', 'credit', 'report', '.', 'thank', 'you', '.'] - 2 times\n",
            "['no', 'information', 'given', 'regarding', 'account', '.', 'violates', 'federal', '15', 'usc', '1692gf', 'and', '15', 'usc', 'section', '1681', '(', 'i', ')', '.', 'the', 'bureaus', 'have', 'it', 'reporting', 'different', 'pricing', 'and', 'multiple', 'inaccuracies', '.', 'i', 'never', 'authorized', 'or', 'given', 'permission', 'for', 'this', 'to', 'be', 'reporting', '.', 'its', 'been', '2', 'months', 'and', 'no', 'information', 'given', '.', 'no', 'medical', 'release', 'to', 'collect', 'on', 'this', 'debt', 'either', 'no', 'information', 'given', 'regarding', 'account', '.', 'violates', 'federal', '15', 'usc', '1692gf', 'and', '15', 'usc', 'section', '1681', '(', 'i', ')', '.', 'the', 'bureaus', 'have', 'it', 'reporting', 'different', 'pricing', 'and', 'multiple', 'inaccuracies', '.', 'i', 'never', 'authorized', 'or', 'given', 'permission', 'for', 'this', 'to', 'be', 'reporting', '.', 'its', 'been', '2', 'months', 'and', 'no', 'information', 'given', '.', 'no', 'medical', 'release', 'to', 'collect', 'on', 'this', 'debt', 'either'] - 3 times\n",
            "['please', 'remove', 'all', 'accounts', 'listed', ',', 'my', 'information', 'was', 'compromised', 'in', 'a', 'data', 'breach', '.', 'this', 'debt', 'has', 'not', 'been', 'validated', '.'] - 2 times\n",
            "['no', 'information', 'given', 'regarding', 'account', '.', 'violates', 'federal', '15', 'usc', '1692gf', 'also', 'no', 'medical', 'release', 'given', 'and', 'eligible', 'to', 'collect', 'on', 'debt', 'per', 'section', '1681', '(', 'i', ')', '.', 'the', 'bureaus', 'have', 'it', 'reporting', 'different', 'pricing', 'and', 'multiple', 'inaccuracies', '.', 'i', 'never', 'authorized', 'or', 'given', 'permission', 'for', 'this', 'to', 'be', 'reporting'] - 4 times\n",
            "['i', 'disputed', 'an', 'account', 'from', 'and', 'it', 'was', 'removed', 'in', '2019', 'it', 'was', 'added', 'back', 'to', 'my', 'credit', 'report', '2019', 'i', 'disputed', 'it', 'again', 'and', 'is', 'still', 'there'] - 2 times\n",
            "['see', 'the', 'attached', 'documents', '.', 'i', 'want', 'the', 'bureau', 'to', 'start', 'the', 'investigation', 'on', 'these', 'accounts', 'that', 'i', 'am', 'never', 'late', 'for', 'but', 'they', \"'re\", 'reporting', 'me', 'as', 'late', '.'] - 24 times\n",
            "['see', 'the', 'attached', 'documents', '.', 'i', 'want', 'the', 'bureau', 'to', 'start', 'the', 'investigation', 'on', 'these', 'accounts', '.', 'i', 'am', 'never', 'been', 'late', 'on', 'this', 'account', '.'] - 10 times\n",
            "['see', 'the', 'attached', 'documents', '.', 'i', 'want', 'the', 'bureau', 'to', 'start', 'the', 'investigation', 'on', 'these', 'accounts', 'on', 'these', 'accounts', '.', 'i', 'am', 'never', 'been', 'late', 'in', 'this', 'account', '.'] - 2 times\n",
            "['i', 'have', 'consistently', 'made', 'on-time', 'payments', 'for', 'these', 'accounts', ',', 'and', 'i', 'kindly', 'request', 'that', 'you', 'update', 'my', 'records', 'accordingly', '.', 'it', \"'s\", 'frustrating', 'because', 'i', \"'ve\", 'always', 'paid', 'on', 'time', ',', 'which', 'makes', 'this', 'situation', 'seem', 'unreasonable', '.'] - 3 times\n",
            "['the', 'fact', 'that', 'i', 'always', 'make', 'timely', 'payments', 'on', 'this', 'account', 'is', 'causing', 'me', 'a', 'great', 'deal', 'of', '.', 'i', 'have', 'never', 'missed', 'a', 'payment', 'and', 'i', 'am', 'very', 'diligent', 'about', 'it', '.', 'i', 'kindly', 'request', 'that', 'you', 'update', 'my', 'account', 'immediately', 'and', 'rectify', 'the', 'inaccurate', 'late', 'payment', 'entry', '.'] - 2 times\n",
            "['i', 'urge', 'you', 'to', 'epedite', 'the', 'update', 'of', 'my', 'account', 'as', 'i', 'have', 'always', 'made', 'payments', 'on', 'time', '.', 'the', 'current', 'situation', 'is', 'causing', 'me', 'a', 'great', 'deal', 'of', 'distress', 'and', '.'] - 2 times\n",
            "['it', 'is', 'completely', 'unfair', 'to', 'find', 'late', 'payments', 'on', 'my', 'account', 'given', 'my', 'consistent', 'history', 'of', 'timely', 'payments', '.', 'i', 'demand', 'that', 'this', 'error', 'is', 'rectified', 'promptly', '.', 'i', 'kindly', 'implore', 'you', 'to', 'immediately', 'correct', 'this', 'situation', 'and', 'ensure', 'my', 'account', 'accurately', 'portrays', 'my', 'history', 'of', 'punctual', 'payments', '.'] - 5 times\n",
            "['kindly', 'correct', 'the', 'error', 'on', 'my', 'account', 'by', 'removing', 'the', 'wrongful', 'late', 'payment', 'notation', '.', 'i', 'have', 'consistently', 'made', 'payments', 'punctually', 'and', 'never', 'defaulted', '.', 'this', 'situation', 'is', 'greatly', 'affecting', 'my', 'well-being', 'and', 'disrupting', 'my', 'sleep', '.', 'i', 'urge', 'you', 'to', 'address', 'this', 'issue', 'and', 'rectify', 'my', 'account', 'immediately', '.'] - 2 times\n",
            "['i', \"'ve\", 'consistently', 'made', 'payments', 'on', 'time', 'for', 'this', 'account', ',', 'and', 'it', \"'s\", 'causing', 'me', 'immense', 'stress', 'to', 'see', 'an', 'incorrect', 'late', 'payment', 'entry', '.', 'i', \"'ve\", 'never', 'faltered', 'in', 'my', 'commitment', 'to', 'timely', 'payments', '.', 'the', 'impact', 'of', 'this', 'error', 'on', 'my', 'mental', 'well-being', 'is', 'significant', ',', 'affecting', 'my', 'sleep', 'and', 'peace', 'of', 'mind', '.', 'i', 'respectfully', 'ask', 'for', 'an', 'immediate', 'correction', 'to', 'my', 'account', 'and', 'hope', 'you', 'understand', 'the', 'urgency', 'of', 'this', 'situation', '.'] - 2 times\n",
            "['it', 'is', 'truly', 'unjustifiable', 'that', 'i', 'have', 'consistently', 'made', 'on-time', 'payments', 'for', 'this', 'account', 'and', 'have', 'never', 'been', 'late', '.', 'i', 'kindly', 'request', 'that', 'you', 'update', 'my', 'account', 'to', 'reflect', 'this', 'accurately', '.'] - 2 times\n",
            "['please', 'update', 'my', 'account', 'and', 'remove', 'the', 'inaccurate', 'late', 'payment', '.', 'i', 'have', 'always', 'paid', 'on', 'time', 'and', 'never', 'missed', 'a', 'payment', '.', 'this', 'is', 'causing', 'me', 'a', 'lot', 'of', 'stress', 'and', ',', 'and', 'i', 'ca', \"n't\", 'even', 'sleep', 'properly', 'because', 'of', 'this', 'problem', '.', 'i', 'am', 'begging', 'you', 'to', 'update', 'my', 'account', 'as', 'soon', 'as', 'possible', '.'] - 3 times\n",
            "['i', 'never', 'been', 'late', 'with', 'this', 'accounts', ',', 'and', 'please', 'update', 'it', ',', 'and', 'i', 'always', 'paid', 'on', 'time', 'that', \"'s\", 'why', 'this', 'is', 'ridiculous', '.'] - 2 times\n",
            "['i', 'opened', 'a', 'citigold', 'checking', 'account', 'with', 'a', 'bonus', 'offer', 'of', 'thank', 'you', 'points', '.', 'before', 'opening', 'it', ',', 'i', 'confirmed', 'i', 'was', 'eligible', 'for', 'it', '.', 'i', 'completed', 'the', 'requirements', 'and', 'waited', '90', 'days', 'for', 'the', 'bonus', 'points', '.', 'i', 'chatted', 'with', 'a', 'citi', 'rep', 'named', 'who', 'confirmed', 'i', \"'ll\", 'get', 'the', 'points', '.', 'now', 'citi', 'is', 'saying', 'i', \"'m\", 'not', 'eligible', 'for', 'them', '.'] - 2 times\n"
          ]
        }
      ]
    },
    {
      "cell_type": "markdown",
      "source": [
        "#### Remove duplicate while keeping the first occurance"
      ],
      "metadata": {
        "id": "nSk-toV8b_zE"
      },
      "id": "nSk-toV8b_zE"
    },
    {
      "cell_type": "code",
      "source": [
        "seen_sentences = set()\n",
        "cleaned_text = []\n",
        "\n",
        "for sentence, label in zip(text, label):\n",
        "    sentence_tuple = tuple(sentence)\n",
        "    if sentence_tuple not in seen_sentences:\n",
        "        seen_sentences.add(sentence_tuple)\n",
        "        cleaned_text.append((sentence, label))"
      ],
      "metadata": {
        "id": "rhPs3-VFb3hk"
      },
      "id": "rhPs3-VFb3hk",
      "execution_count": 265,
      "outputs": []
    },
    {
      "cell_type": "code",
      "source": [
        "import contractions\n",
        "\n",
        "# that's -> that is\n",
        "def expand_contractions(text):\n",
        "    text = contractions.fix(text)\n",
        "    return text\n",
        "\n",
        "expanded_text = [\n",
        "    ([expand_contractions(word) for word in sentence], label)\n",
        "    for sentence, label in cleaned_text\n",
        "]"
      ],
      "metadata": {
        "id": "lpkAHJY9d8lh"
      },
      "id": "lpkAHJY9d8lh",
      "execution_count": 266,
      "outputs": []
    },
    {
      "cell_type": "code",
      "source": [
        "text_data, label_data = zip(*expanded_text)\n",
        "text_data = list(text_data)\n",
        "label_data = list(label_data)"
      ],
      "metadata": {
        "id": "I4IR5ERclVLw"
      },
      "id": "I4IR5ERclVLw",
      "execution_count": 267,
      "outputs": []
    },
    {
      "cell_type": "markdown",
      "source": [
        "## Create vocab and index dictionary"
      ],
      "metadata": {
        "id": "6qaNi8pmUO33"
      },
      "id": "6qaNi8pmUO33"
    },
    {
      "cell_type": "code",
      "source": [
        "word_counts = Counter(word for sentence in text_data for word in sentence)\n",
        "\n",
        "# Sort words by frequency\n",
        "vocab_list = [word for word, _ in word_counts.most_common()]\n",
        "\n",
        "# Convert to dictionary with indices (starting from 2 for special tokens)\n",
        "vocab = {\"_PAD\": 0, \"_UNK\": 1}\n",
        "vocab.update({word: idx for idx, word in enumerate(vocab_list, start=2)})\n",
        "\n",
        "print(list(vocab.items())[:10])"
      ],
      "metadata": {
        "colab": {
          "base_uri": "https://localhost:8080/"
        },
        "id": "MZugRqzSSwVf",
        "outputId": "ebfdf51c-fa38-4752-9303-06239233ada7"
      },
      "id": "MZugRqzSSwVf",
      "execution_count": 268,
      "outputs": [
        {
          "output_type": "stream",
          "name": "stdout",
          "text": [
            "[('_PAD', 0), ('_UNK', 1), ('the', 2), ('.', 3), ('i', 4), ('to', 5), (',', 6), ('and', 7), ('a', 8), ('my', 9)]\n"
          ]
        }
      ]
    },
    {
      "cell_type": "code",
      "source": [
        "vocab_size = len(vocab)\n",
        "print(f'Vocab size: {vocab_size}')"
      ],
      "metadata": {
        "colab": {
          "base_uri": "https://localhost:8080/"
        },
        "id": "QC0XlfK-Shi9",
        "outputId": "3571c65b-6e5a-4ecb-b554-ced5b37f68ca"
      },
      "id": "QC0XlfK-Shi9",
      "execution_count": 269,
      "outputs": [
        {
          "output_type": "stream",
          "name": "stdout",
          "text": [
            "Vocab size: 18235\n"
          ]
        }
      ]
    },
    {
      "cell_type": "markdown",
      "source": [
        "#### Assign the index to the words based on created dictionary"
      ],
      "metadata": {
        "id": "hR2JsY_RqT5u"
      },
      "id": "hR2JsY_RqT5u"
    },
    {
      "source": [
        "for i, sentence in enumerate(text_data):\n",
        "    text_data[i] = [vocab[word] if word in vocab else 0 for word in sentence]"
      ],
      "metadata": {
        "executionCancelledAt": null,
        "executionTime": 207,
        "lastExecutedAt": 1742643148527,
        "lastExecutedByKernel": "35e066a4-1a49-4828-98a8-2ce528a3d8c5",
        "lastScheduledRunId": null,
        "lastSuccessfullyExecutedCode": "# Dictionaries to store the word to index mappings and vice versa\nword2idx = {o:i for i,o in enumerate(words)}\nidx2word = {i:o for i,o in enumerate(words)}\n\ntexts = text.copy()\n\n# Looking up the mapping dictionary and assigning the index to the respective words\nfor i, sentence in enumerate(text):\n    texts[i] = [word2idx[word] if word in word2idx else 0 for word in sentence]\n    \n# Defining a function that either shortens sentences or pads sentences with 0 to a fixed length\ndef pad_input(sentences, seq_len):\n    features = np.zeros((len(sentences), seq_len),dtype=int)\n    for ii, review in enumerate(sentences):\n        if len(review) != 0:\n            features[ii, -len(review):] = np.array(review)[:seq_len]\n    return features\n\ntexts = pad_input(texts, 50)",
        "id": "d630badb-23dd-4368-9a96-e2b478ad5cff"
      },
      "id": "d630badb-23dd-4368-9a96-e2b478ad5cff",
      "cell_type": "code",
      "execution_count": 270,
      "outputs": []
    },
    {
      "cell_type": "markdown",
      "source": [
        "#### Define a function that either shortens sentences or pads sentences with 0 to a fixed length"
      ],
      "metadata": {
        "id": "Axozu2z-qPkd"
      },
      "id": "Axozu2z-qPkd"
    },
    {
      "cell_type": "code",
      "source": [
        "def pad_input(sentences, seq_len):\n",
        "    features = np.zeros((len(sentences), seq_len),dtype=int)\n",
        "    for ii, review in enumerate(sentences):\n",
        "        if len(review) != 0:\n",
        "            features[ii, -len(review):] = np.array(review)[:seq_len]\n",
        "    return features\n",
        "\n",
        "text_data = pad_input(text_data, 50)"
      ],
      "metadata": {
        "id": "7k3CJxsgqM-r"
      },
      "id": "7k3CJxsgqM-r",
      "execution_count": 271,
      "outputs": []
    },
    {
      "cell_type": "markdown",
      "source": [
        "## Create TensorFlow Dataset"
      ],
      "metadata": {
        "id": "sx_JAp63BGT2"
      },
      "id": "sx_JAp63BGT2"
    },
    {
      "source": [
        "train_text, test_text, train_label, test_label = train_test_split(text_data, label_data, test_size=0.3, random_state=42, shuffle=True)"
      ],
      "metadata": {
        "executionCancelledAt": null,
        "executionTime": 10,
        "lastExecutedAt": 1742643163274,
        "lastScheduledRunId": null,
        "lastSuccessfullyExecutedCode": "# Splitting dataset\ntrain_text, test_text, train_label, test_label = train_test_split(texts, labels, test_size=0.2, random_state=42)\n\ntrain_data = TensorDataset(torch.from_numpy(train_text), torch.from_numpy(train_label).long())\ntest_data = TensorDataset(torch.from_numpy(test_text), torch.from_numpy(test_label).long())",
        "lastExecutedByKernel": "35e066a4-1a49-4828-98a8-2ce528a3d8c5",
        "id": "f2654836-631f-415e-9922-5ab3bafaaafa"
      },
      "id": "f2654836-631f-415e-9922-5ab3bafaaafa",
      "cell_type": "code",
      "execution_count": 272,
      "outputs": []
    },
    {
      "cell_type": "code",
      "source": [
        "train_val_dataset = tf.data.Dataset.from_tensor_slices((train_text, train_label))\n",
        "\n",
        "train_ratio = 0.9\n",
        "total_size = len(train_text)\n",
        "train_size = int(train_ratio * total_size)\n",
        "\n",
        "train_dataset = train_val_dataset.take(train_size)\n",
        "val_dataset = train_val_dataset.skip(train_size)\n",
        "\n",
        "train_dataset = train_dataset.map(lambda x, y: (tf.squeeze(x), y)).batch(32).prefetch(tf.data.AUTOTUNE)\n",
        "val_dataset = val_dataset.map(lambda x, y: (tf.squeeze(x), y)).batch(1).prefetch(tf.data.AUTOTUNE)"
      ],
      "metadata": {
        "id": "DDakexrb0cI-"
      },
      "id": "DDakexrb0cI-",
      "execution_count": 273,
      "outputs": []
    },
    {
      "cell_type": "code",
      "source": [
        "test_dataset = tf.data.Dataset.from_tensor_slices((test_text, test_label))\n",
        "test_dataset = test_dataset.shuffle(len(test_text)).batch(1)"
      ],
      "metadata": {
        "id": "z0Mc36oL0Rks"
      },
      "id": "z0Mc36oL0Rks",
      "execution_count": 274,
      "outputs": []
    },
    {
      "cell_type": "markdown",
      "source": [
        "## Data Prediction\n",
        "#### Initialize embedding layer"
      ],
      "metadata": {
        "id": "FrDwjrcMBKeO"
      },
      "id": "FrDwjrcMBKeO"
    },
    {
      "cell_type": "code",
      "source": [
        "embedding_url = \"https://tfhub.dev/google/universal-sentence-encoder/4\"\n",
        "hub_layer = hub.KerasLayer(embedding_url, input_shape=[], dtype=tf.string, trainable=True)"
      ],
      "metadata": {
        "id": "b3So4MRGqdQ1"
      },
      "id": "b3So4MRGqdQ1",
      "execution_count": 275,
      "outputs": []
    },
    {
      "cell_type": "code",
      "source": [
        "from tensorflow.keras.layers import Layer\n",
        "\n",
        "# Wrap hub.KerasLayer inside a Custom Layer\n",
        "class HubEmbeddingLayer(Layer):\n",
        "    def __init__(self, hub_layer):\n",
        "        super(HubEmbeddingLayer, self).__init__()\n",
        "        self.hub_layer = hub_layer\n",
        "\n",
        "    def call(self, inputs):\n",
        "        return self.hub_layer(inputs)"
      ],
      "metadata": {
        "id": "GAl_R7ePzwuO"
      },
      "id": "GAl_R7ePzwuO",
      "execution_count": 276,
      "outputs": []
    },
    {
      "cell_type": "markdown",
      "source": [
        "#### Initialize Model"
      ],
      "metadata": {
        "id": "8VlTRg_jBOwK"
      },
      "id": "8VlTRg_jBOwK"
    },
    {
      "cell_type": "code",
      "source": [
        "model = tf.keras.Sequential([\n",
        "    tf.keras.layers.Embedding(input_dim=vocab_size, output_dim=128, input_length=50),\n",
        "    tf.keras.layers.LSTM(64),\n",
        "    tf.keras.layers.Dense(5, activation=\"sigmoid\")\n",
        "])"
      ],
      "metadata": {
        "colab": {
          "base_uri": "https://localhost:8080/"
        },
        "id": "7fQK1zcCz24_",
        "outputId": "b2e18b53-63bf-440f-a4eb-8ba8d4408088"
      },
      "id": "7fQK1zcCz24_",
      "execution_count": 277,
      "outputs": [
        {
          "output_type": "stream",
          "name": "stderr",
          "text": [
            "/usr/local/lib/python3.11/dist-packages/keras/src/layers/core/embedding.py:90: UserWarning: Argument `input_length` is deprecated. Just remove it.\n",
            "  warnings.warn(\n"
          ]
        }
      ]
    },
    {
      "cell_type": "code",
      "source": [
        "model.compile(\n",
        "    optimizer=tf.keras.optimizers.Adam(learning_rate=0.001),\n",
        "    loss='sparse_categorical_crossentropy',\n",
        "    metrics=['accuracy']\n",
        ")"
      ],
      "metadata": {
        "id": "NfscxR5Xz57H"
      },
      "id": "NfscxR5Xz57H",
      "execution_count": 278,
      "outputs": []
    },
    {
      "cell_type": "code",
      "source": [
        "history = model.fit(train_dataset, epochs=10, validation_data=val_dataset)"
      ],
      "metadata": {
        "colab": {
          "base_uri": "https://localhost:8080/"
        },
        "id": "Ie595Rjv0BEP",
        "outputId": "23d48530-0c7e-4ab9-e17a-b17bcd3ba14d"
      },
      "id": "Ie595Rjv0BEP",
      "execution_count": 279,
      "outputs": [
        {
          "output_type": "stream",
          "name": "stdout",
          "text": [
            "Epoch 1/10\n",
            "\u001b[1m98/98\u001b[0m \u001b[32m━━━━━━━━━━━━━━━━━━━━\u001b[0m\u001b[37m\u001b[0m \u001b[1m15s\u001b[0m 80ms/step - accuracy: 0.2865 - loss: 1.5269 - val_accuracy: 0.5896 - val_loss: 1.1462\n",
            "Epoch 2/10\n",
            "\u001b[1m98/98\u001b[0m \u001b[32m━━━━━━━━━━━━━━━━━━━━\u001b[0m\u001b[37m\u001b[0m \u001b[1m11s\u001b[0m 89ms/step - accuracy: 0.6693 - loss: 0.8869 - val_accuracy: 0.6705 - val_loss: 0.8239\n",
            "Epoch 3/10\n",
            "\u001b[1m98/98\u001b[0m \u001b[32m━━━━━━━━━━━━━━━━━━━━\u001b[0m\u001b[37m\u001b[0m \u001b[1m10s\u001b[0m 89ms/step - accuracy: 0.8115 - loss: 0.5085 - val_accuracy: 0.7630 - val_loss: 0.7244\n",
            "Epoch 4/10\n",
            "\u001b[1m98/98\u001b[0m \u001b[32m━━━━━━━━━━━━━━━━━━━━\u001b[0m\u001b[37m\u001b[0m \u001b[1m8s\u001b[0m 69ms/step - accuracy: 0.8814 - loss: 0.3561 - val_accuracy: 0.8150 - val_loss: 0.6471\n",
            "Epoch 5/10\n",
            "\u001b[1m98/98\u001b[0m \u001b[32m━━━━━━━━━━━━━━━━━━━━\u001b[0m\u001b[37m\u001b[0m \u001b[1m11s\u001b[0m 76ms/step - accuracy: 0.9348 - loss: 0.2166 - val_accuracy: 0.8092 - val_loss: 0.7213\n",
            "Epoch 6/10\n",
            "\u001b[1m98/98\u001b[0m \u001b[32m━━━━━━━━━━━━━━━━━━━━\u001b[0m\u001b[37m\u001b[0m \u001b[1m11s\u001b[0m 84ms/step - accuracy: 0.9520 - loss: 0.1819 - val_accuracy: 0.7399 - val_loss: 0.9783\n",
            "Epoch 7/10\n",
            "\u001b[1m98/98\u001b[0m \u001b[32m━━━━━━━━━━━━━━━━━━━━\u001b[0m\u001b[37m\u001b[0m \u001b[1m9s\u001b[0m 87ms/step - accuracy: 0.9586 - loss: 0.1476 - val_accuracy: 0.7803 - val_loss: 0.8567\n",
            "Epoch 8/10\n",
            "\u001b[1m98/98\u001b[0m \u001b[32m━━━━━━━━━━━━━━━━━━━━\u001b[0m\u001b[37m\u001b[0m \u001b[1m7s\u001b[0m 76ms/step - accuracy: 0.9774 - loss: 0.1021 - val_accuracy: 0.7803 - val_loss: 0.7992\n",
            "Epoch 9/10\n",
            "\u001b[1m98/98\u001b[0m \u001b[32m━━━━━━━━━━━━━━━━━━━━\u001b[0m\u001b[37m\u001b[0m \u001b[1m11s\u001b[0m 80ms/step - accuracy: 0.9788 - loss: 0.0834 - val_accuracy: 0.7832 - val_loss: 0.8689\n",
            "Epoch 10/10\n",
            "\u001b[1m98/98\u001b[0m \u001b[32m━━━━━━━━━━━━━━━━━━━━\u001b[0m\u001b[37m\u001b[0m \u001b[1m11s\u001b[0m 92ms/step - accuracy: 0.9771 - loss: 0.0784 - val_accuracy: 0.7601 - val_loss: 0.9384\n"
          ]
        }
      ]
    },
    {
      "cell_type": "code",
      "source": [
        "model.summary()"
      ],
      "metadata": {
        "colab": {
          "base_uri": "https://localhost:8080/",
          "height": 255
        },
        "id": "M5MNSXHO0Bd9",
        "outputId": "c1e538c3-c2df-4e4d-c279-5bcc9218b59a"
      },
      "id": "M5MNSXHO0Bd9",
      "execution_count": 280,
      "outputs": [
        {
          "output_type": "display_data",
          "data": {
            "text/plain": [
              "\u001b[1mModel: \"sequential_8\"\u001b[0m\n"
            ],
            "text/html": [
              "<pre style=\"white-space:pre;overflow-x:auto;line-height:normal;font-family:Menlo,'DejaVu Sans Mono',consolas,'Courier New',monospace\"><span style=\"font-weight: bold\">Model: \"sequential_8\"</span>\n",
              "</pre>\n"
            ]
          },
          "metadata": {}
        },
        {
          "output_type": "display_data",
          "data": {
            "text/plain": [
              "┏━━━━━━━━━━━━━━━━━━━━━━━━━━━━━━━━━━━━━━┳━━━━━━━━━━━━━━━━━━━━━━━━━━━━━┳━━━━━━━━━━━━━━━━━┓\n",
              "┃\u001b[1m \u001b[0m\u001b[1mLayer (type)                        \u001b[0m\u001b[1m \u001b[0m┃\u001b[1m \u001b[0m\u001b[1mOutput Shape               \u001b[0m\u001b[1m \u001b[0m┃\u001b[1m \u001b[0m\u001b[1m        Param #\u001b[0m\u001b[1m \u001b[0m┃\n",
              "┡━━━━━━━━━━━━━━━━━━━━━━━━━━━━━━━━━━━━━━╇━━━━━━━━━━━━━━━━━━━━━━━━━━━━━╇━━━━━━━━━━━━━━━━━┩\n",
              "│ embedding_7 (\u001b[38;5;33mEmbedding\u001b[0m)              │ (\u001b[38;5;45mNone\u001b[0m, \u001b[38;5;34m50\u001b[0m, \u001b[38;5;34m128\u001b[0m)             │       \u001b[38;5;34m2,334,080\u001b[0m │\n",
              "├──────────────────────────────────────┼─────────────────────────────┼─────────────────┤\n",
              "│ lstm_7 (\u001b[38;5;33mLSTM\u001b[0m)                        │ (\u001b[38;5;45mNone\u001b[0m, \u001b[38;5;34m64\u001b[0m)                  │          \u001b[38;5;34m49,408\u001b[0m │\n",
              "├──────────────────────────────────────┼─────────────────────────────┼─────────────────┤\n",
              "│ dense_12 (\u001b[38;5;33mDense\u001b[0m)                     │ (\u001b[38;5;45mNone\u001b[0m, \u001b[38;5;34m5\u001b[0m)                   │             \u001b[38;5;34m325\u001b[0m │\n",
              "└──────────────────────────────────────┴─────────────────────────────┴─────────────────┘\n"
            ],
            "text/html": [
              "<pre style=\"white-space:pre;overflow-x:auto;line-height:normal;font-family:Menlo,'DejaVu Sans Mono',consolas,'Courier New',monospace\">┏━━━━━━━━━━━━━━━━━━━━━━━━━━━━━━━━━━━━━━┳━━━━━━━━━━━━━━━━━━━━━━━━━━━━━┳━━━━━━━━━━━━━━━━━┓\n",
              "┃<span style=\"font-weight: bold\"> Layer (type)                         </span>┃<span style=\"font-weight: bold\"> Output Shape                </span>┃<span style=\"font-weight: bold\">         Param # </span>┃\n",
              "┡━━━━━━━━━━━━━━━━━━━━━━━━━━━━━━━━━━━━━━╇━━━━━━━━━━━━━━━━━━━━━━━━━━━━━╇━━━━━━━━━━━━━━━━━┩\n",
              "│ embedding_7 (<span style=\"color: #0087ff; text-decoration-color: #0087ff\">Embedding</span>)              │ (<span style=\"color: #00d7ff; text-decoration-color: #00d7ff\">None</span>, <span style=\"color: #00af00; text-decoration-color: #00af00\">50</span>, <span style=\"color: #00af00; text-decoration-color: #00af00\">128</span>)             │       <span style=\"color: #00af00; text-decoration-color: #00af00\">2,334,080</span> │\n",
              "├──────────────────────────────────────┼─────────────────────────────┼─────────────────┤\n",
              "│ lstm_7 (<span style=\"color: #0087ff; text-decoration-color: #0087ff\">LSTM</span>)                        │ (<span style=\"color: #00d7ff; text-decoration-color: #00d7ff\">None</span>, <span style=\"color: #00af00; text-decoration-color: #00af00\">64</span>)                  │          <span style=\"color: #00af00; text-decoration-color: #00af00\">49,408</span> │\n",
              "├──────────────────────────────────────┼─────────────────────────────┼─────────────────┤\n",
              "│ dense_12 (<span style=\"color: #0087ff; text-decoration-color: #0087ff\">Dense</span>)                     │ (<span style=\"color: #00d7ff; text-decoration-color: #00d7ff\">None</span>, <span style=\"color: #00af00; text-decoration-color: #00af00\">5</span>)                   │             <span style=\"color: #00af00; text-decoration-color: #00af00\">325</span> │\n",
              "└──────────────────────────────────────┴─────────────────────────────┴─────────────────┘\n",
              "</pre>\n"
            ]
          },
          "metadata": {}
        },
        {
          "output_type": "display_data",
          "data": {
            "text/plain": [
              "\u001b[1m Total params: \u001b[0m\u001b[38;5;34m7,151,441\u001b[0m (27.28 MB)\n"
            ],
            "text/html": [
              "<pre style=\"white-space:pre;overflow-x:auto;line-height:normal;font-family:Menlo,'DejaVu Sans Mono',consolas,'Courier New',monospace\"><span style=\"font-weight: bold\"> Total params: </span><span style=\"color: #00af00; text-decoration-color: #00af00\">7,151,441</span> (27.28 MB)\n",
              "</pre>\n"
            ]
          },
          "metadata": {}
        },
        {
          "output_type": "display_data",
          "data": {
            "text/plain": [
              "\u001b[1m Trainable params: \u001b[0m\u001b[38;5;34m2,383,813\u001b[0m (9.09 MB)\n"
            ],
            "text/html": [
              "<pre style=\"white-space:pre;overflow-x:auto;line-height:normal;font-family:Menlo,'DejaVu Sans Mono',consolas,'Courier New',monospace\"><span style=\"font-weight: bold\"> Trainable params: </span><span style=\"color: #00af00; text-decoration-color: #00af00\">2,383,813</span> (9.09 MB)\n",
              "</pre>\n"
            ]
          },
          "metadata": {}
        },
        {
          "output_type": "display_data",
          "data": {
            "text/plain": [
              "\u001b[1m Non-trainable params: \u001b[0m\u001b[38;5;34m0\u001b[0m (0.00 B)\n"
            ],
            "text/html": [
              "<pre style=\"white-space:pre;overflow-x:auto;line-height:normal;font-family:Menlo,'DejaVu Sans Mono',consolas,'Courier New',monospace\"><span style=\"font-weight: bold\"> Non-trainable params: </span><span style=\"color: #00af00; text-decoration-color: #00af00\">0</span> (0.00 B)\n",
              "</pre>\n"
            ]
          },
          "metadata": {}
        },
        {
          "output_type": "display_data",
          "data": {
            "text/plain": [
              "\u001b[1m Optimizer params: \u001b[0m\u001b[38;5;34m4,767,628\u001b[0m (18.19 MB)\n"
            ],
            "text/html": [
              "<pre style=\"white-space:pre;overflow-x:auto;line-height:normal;font-family:Menlo,'DejaVu Sans Mono',consolas,'Courier New',monospace\"><span style=\"font-weight: bold\"> Optimizer params: </span><span style=\"color: #00af00; text-decoration-color: #00af00\">4,767,628</span> (18.19 MB)\n",
              "</pre>\n"
            ]
          },
          "metadata": {}
        }
      ]
    },
    {
      "cell_type": "code",
      "source": [
        "plt.figure(figsize=(12, 6))\n",
        "plt.plot(history.history['loss'], label='Training Loss', marker='o')\n",
        "plt.plot(history.history['val_loss'], label='Validation Loss', marker='s')\n",
        "plt.title('Training & Validation Loss Over Epochs')\n",
        "plt.ylabel('Loss')\n",
        "plt.xlabel('Epoch')\n",
        "plt.grid()\n",
        "plt.legend()\n",
        "plt.show()"
      ],
      "metadata": {
        "colab": {
          "base_uri": "https://localhost:8080/",
          "height": 564
        },
        "id": "v2hSqVZ41rBg",
        "outputId": "5cc8ed90-b331-44a7-cd91-ad60cffd6f8c"
      },
      "id": "v2hSqVZ41rBg",
      "execution_count": 281,
      "outputs": [
        {
          "output_type": "display_data",
          "data": {
            "text/plain": [
              "<Figure size 1200x600 with 1 Axes>"
            ],
            "image/png": "[encoded data removed]"
          },
          "metadata": {}
        }
      ]
    },
    {
      "cell_type": "markdown",
      "source": [
        "#### Evaluation"
      ],
      "metadata": {
        "id": "HoCyPsSyFEXm"
      },
      "id": "HoCyPsSyFEXm"
    },
    {
      "cell_type": "code",
      "source": [
        "test_loss, test_acc = model.evaluate(test_dataset, verbose=1)\n",
        "\n",
        "print(f\"Test Loss: {test_loss:.4f}\")\n",
        "print(f\"Test Accuracy: {test_acc:.4f}\")"
      ],
      "metadata": {
        "colab": {
          "base_uri": "https://localhost:8080/"
        },
        "id": "iV1S46y610vZ",
        "outputId": "f4f7e26c-54e0-4467-fda0-51355fdcf123"
      },
      "id": "iV1S46y610vZ",
      "execution_count": 282,
      "outputs": [
        {
          "output_type": "stream",
          "name": "stdout",
          "text": [
            "\u001b[1m1483/1483\u001b[0m \u001b[32m━━━━━━━━━━━━━━━━━━━━\u001b[0m\u001b[37m\u001b[0m \u001b[1m11s\u001b[0m 7ms/step - accuracy: 0.7727 - loss: 0.9311\n",
            "Test Loss: 1.0055\n",
            "Test Accuracy: 0.7539\n"
          ]
        }
      ]
    },
    {
      "cell_type": "code",
      "source": [
        "x_test, y_true = zip(*[data for data in test_dataset]) # Extract from dataset\n",
        "x_test = np.squeeze(x_test)\n",
        "x_test = np.array(x_test)\n",
        "y_true = np.array(y_true)\n",
        "\n",
        "y_pred_prob = model.predict(x_test)\n",
        "y_pred = np.argmax(y_pred_prob, axis=1) # Convert to class labels\n",
        "\n",
        "print(classification_report(y_true, y_pred))"
      ],
      "metadata": {
        "colab": {
          "base_uri": "https://localhost:8080/"
        },
        "id": "9P8WAbBt13-h",
        "outputId": "e562f52e-b122-4e59-8f91-7ca3d1da687e"
      },
      "id": "9P8WAbBt13-h",
      "execution_count": 283,
      "outputs": [
        {
          "output_type": "stream",
          "name": "stdout",
          "text": [
            "\u001b[1m47/47\u001b[0m \u001b[32m━━━━━━━━━━━━━━━━━━━━\u001b[0m\u001b[37m\u001b[0m \u001b[1m1s\u001b[0m 14ms/step\n",
            "              precision    recall  f1-score   support\n",
            "\n",
            "           0       0.86      0.48      0.62       295\n",
            "           1       0.64      0.76      0.69       315\n",
            "           2       0.71      0.86      0.78       308\n",
            "           3       0.81      0.80      0.80       278\n",
            "           4       0.85      0.87      0.86       287\n",
            "\n",
            "    accuracy                           0.75      1483\n",
            "   macro avg       0.77      0.75      0.75      1483\n",
            "weighted avg       0.77      0.75      0.75      1483\n",
            "\n"
          ]
        }
      ]
    },
    {
      "cell_type": "code",
      "source": [
        "cm = confusion_matrix(y_true, y_pred)\n",
        "\n",
        "plt.figure(figsize=(8, 6))\n",
        "sns.heatmap(cm, annot=True, fmt=\"d\", cmap=\"Blues\")\n",
        "plt.xlabel(\"Predicted Label\")\n",
        "plt.ylabel(\"True Label\")\n",
        "plt.title(\"Confusion Matrix\")\n",
        "plt.show()"
      ],
      "metadata": {
        "colab": {
          "base_uri": "https://localhost:8080/",
          "height": 564
        },
        "id": "YrShsyYk2Ujo",
        "outputId": "6472c0c9-cc41-4a51-cd87-dd61f4484605"
      },
      "id": "YrShsyYk2Ujo",
      "execution_count": 285,
      "outputs": [
        {
          "output_type": "display_data",
          "data": {
            "text/plain": [
              "<Figure size 800x600 with 2 Axes>"
            ],
            "image/png": "[encoded data removed]"
          },
          "metadata": {}
        }
      ]
    }
  ],
  "metadata": {
    "colab": {
      "provenance": []
    },
    "kernelspec": {
      "display_name": "Python 3 (ipykernel)",
      "language": "python",
      "name": "python3"
    },
    "language_info": {
      "name": "python",
      "version": "3.10.12",
      "mimetype": "text/x-python",
      "codemirror_mode": {
        "name": "ipython",
        "version": 3
      },
      "pygments_lexer": "ipython3",
      "nbconvert_exporter": "python",
      "file_extension": ".py"
    },
    "editor": "DataLab"
  },
  "nbformat": 4,
  "nbformat_minor": 5
}